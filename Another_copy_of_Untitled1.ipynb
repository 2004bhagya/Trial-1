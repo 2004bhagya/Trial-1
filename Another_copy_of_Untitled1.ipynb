{
  "nbformat": 4,
  "nbformat_minor": 0,
  "metadata": {
    "colab": {
      "provenance": [],
      "authorship_tag": "ABX9TyM3HhbMp+LAf2RDBUPhLrrL",
      "include_colab_link": true
    },
    "kernelspec": {
      "name": "python3",
      "display_name": "Python 3"
    },
    "language_info": {
      "name": "python"
    }
  },
  "cells": [
    {
      "cell_type": "markdown",
      "metadata": {
        "id": "view-in-github",
        "colab_type": "text"
      },
      "source": [
        "<a href=\"https://colab.research.google.com/github/2004bhagya/Trial-1/blob/main/Another_copy_of_Untitled1.ipynb\" target=\"_parent\"><img src=\"https://colab.research.google.com/assets/colab-badge.svg\" alt=\"Open In Colab\"/></a>"
      ]
    },
    {
      "cell_type": "code",
      "execution_count": null,
      "metadata": {
        "colab": {
          "base_uri": "https://localhost:8080/"
        },
        "id": "5-0Ma8qOz09E",
        "outputId": "7c600be9-5146-4f53-c068-47927d127484"
      },
      "outputs": [
        {
          "output_type": "stream",
          "name": "stdout",
          "text": [
            "Enter the age20\n",
            "Eligible to vote\n"
          ]
        },
        {
          "output_type": "execute_result",
          "data": {
            "text/plain": [
              "True"
            ]
          },
          "metadata": {},
          "execution_count": 5
        }
      ],
      "source": [
        "A=int(input(\"Enter the dob of\"))\n",
        "if (A>=18):\n",
        "  print(\"Eligible to vote\")\n",
        "else:\n",
        "  print(\"not Eligible\")\n",
        "age=2025-2004\n",
        "age>=18"
      ]
    },
    {
      "cell_type": "code",
      "source": [],
      "metadata": {
        "id": "Z0gLXNvZ6UY4"
      },
      "execution_count": null,
      "outputs": []
    }
  ]
}